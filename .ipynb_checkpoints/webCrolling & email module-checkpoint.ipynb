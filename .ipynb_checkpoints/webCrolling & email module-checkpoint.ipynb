{
 "cells": [
  {
   "cell_type": "code",
   "execution_count": 1,
   "metadata": {},
   "outputs": [],
   "source": [
    "import requests, bs4, pandas as pd, numpy as np\n",
    "\n",
    "resp = requests.get(\"https://finance.naver.com/marketindex/\")\n",
    "resp.encoding='utf-8'\n",
    "html = resp.text\n",
    "bs = bs4.BeautifulSoup(html,'html.parser')\n",
    "\n",
    "dollerByWonPrice = bs.select_one(\"#exchangeList > li.on > a.head.usd > div > span.value\").text\n",
    "\n",
    "outList = []\n",
    "outList.append(dollerByWonPrice)\n",
    "result = pd.DataFrame(outList)\n",
    "result.columns = [\"USD\"]"
   ]
  },
  {
   "cell_type": "code",
   "execution_count": 2,
   "metadata": {},
   "outputs": [
    {
     "data": {
      "text/plain": [
       "(235, b'2.7.0 Accepted')"
      ]
     },
     "execution_count": 2,
     "metadata": {},
     "output_type": "execute_result"
    }
   ],
   "source": [
    "import smtplib \n",
    "from email.message import EmailMessage\n",
    "smtp_gamil = smtplib.SMTP('smtp.gmail.com',587)\n",
    "#서버연결\n",
    "smtp_gamil.ehlo()\n",
    "#연결 암호화\n",
    "smtp_gamil.starttls()\n",
    "#로그인\n",
    "smtp_gamil.login('hyungsukjung92','gudtjr12!@')"
   ]
  },
  {
   "cell_type": "code",
   "execution_count": 3,
   "metadata": {},
   "outputs": [
    {
     "data": {
      "text/plain": [
       "{}"
      ]
     },
     "execution_count": 3,
     "metadata": {},
     "output_type": "execute_result"
    }
   ],
   "source": [
    "#email 주소 만들기\n",
    "import csv\n",
    "from datetime import datetime\n",
    "with open(\"./emaillist.csv\",'w',newline='',encoding='utf-8') as f:\n",
    "    email = csv.writer(f,delimiter=',')\n",
    "    email.writerow(['이름','이메일'])\n",
    "    email.writerow(['정형석','zzzzz45@naver.com'])\n",
    "emaillist = pd.read_csv('./emaillist.csv',encoding='utf-8')\n",
    "\n",
    "to = emaillist['이메일'].tolist()\n",
    "\n",
    "##이메일 전송\n",
    "msg = EmailMessage()\n",
    "#제목입력\n",
    "msg['Subject'] = \"미국 환율 value\"\n",
    "#내용 입력\n",
    "now = datetime.now()\n",
    "msg.set_content('%s-%s-%s %d:%d' %(now.year,now.month,now.day,now.hour,now.minute) + \" 미국 환율 값입니다 : \"+dollerByWonPrice)\n",
    "#보내는 사람\n",
    "msg['From'] = 'hyungsukjung92@gamil.com'\n",
    "#받는사람\n",
    "msg['To'] = \",\".join(to)\n",
    "\n",
    "smtp_gamil.send_message(msg)"
   ]
  },
  {
   "cell_type": "code",
   "execution_count": 4,
   "metadata": {},
   "outputs": [
    {
     "data": {
      "text/plain": [
       "{}"
      ]
     },
     "execution_count": 4,
     "metadata": {},
     "output_type": "execute_result"
    }
   ],
   "source": [
    "import csv\n",
    "from datetime import datetime\n",
    "with open(\"./emaillist.csv\",'w',newline='',encoding='utf-8') as f:\n",
    "    email = csv.writer(f,delimiter=',')\n",
    "    email.writerow(['이름','이메일'])\n",
    "    email.writerow(['정형석','zzzzz45@naver.com'])\n",
    "emaillist = pd.read_csv('./emaillist.csv',encoding='utf-8')\n",
    "\n",
    "to = emaillist['이메일'].tolist()\n",
    "\n",
    "##이메일 전송\n",
    "msg = EmailMessage()\n",
    "#제목입력\n",
    "msg['Subject'] = \"미국housing price에 관한 정보\"\n",
    "#내용 입력\n",
    "msg.set_content(\"python test 미국 주택 데이터 입니다.\")\n",
    "#보내는 사람\n",
    "msg['From'] = 'hyungsukjung92@gamil.com'\n",
    "#받는사람\n",
    "msg['To'] = \",\".join(to)\n",
    "\n",
    "file='./test.csv'\n",
    "fp = open(file,'rb')\n",
    "file_data = fp.read()\n",
    "msg.add_attachment(file_data,maintype='text',subtype='plain',filename='미국 주택 test.csv')\n",
    "smtp_gamil.send_message(msg)"
   ]
  }
 ],
 "metadata": {
  "kernelspec": {
   "display_name": "Python 3",
   "language": "python",
   "name": "python3"
  },
  "language_info": {
   "codemirror_mode": {
    "name": "ipython",
    "version": 3
   },
   "file_extension": ".py",
   "mimetype": "text/x-python",
   "name": "python",
   "nbconvert_exporter": "python",
   "pygments_lexer": "ipython3",
   "version": "3.6.4"
  }
 },
 "nbformat": 4,
 "nbformat_minor": 2
}
